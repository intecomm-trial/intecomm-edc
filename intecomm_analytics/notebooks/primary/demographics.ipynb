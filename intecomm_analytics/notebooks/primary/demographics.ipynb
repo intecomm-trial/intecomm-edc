{
 "cells": [
  {
   "cell_type": "code",
   "id": "initial_id",
   "metadata": {
    "collapsed": true
   },
   "source": [
    "%%capture\n",
    "import os\n",
    "import pandas as pd\n",
    "import numpy as np\n",
    "from dj_notebook import activate\n",
    "from pathlib import Path\n",
    "\n",
    "env_file = os.environ[\"INTECOMM_ENV\"]\n",
    "analysis_folder = Path(os.environ[\"INTECOMM_ANALYSIS_FOLDER\"])\n",
    "reports_folder = Path(os.environ[\"INTECOMM_ANALYSIS_FOLDER\"])\n",
    "plus = activate(dotenv_file=env_file)\n"
   ],
   "outputs": [],
   "execution_count": null
  },
  {
   "metadata": {},
   "cell_type": "code",
   "source": [
    "from intecomm_analytics.dataframes import get_df_main_1858\n",
    "from tabulate import tabulate\n",
    "from edc_constants.constants import NO, YES, NOT_APPLICABLE\n",
    "from intecomm_analytics.notebooks.primary.table_utils import (\n",
    "    get_formatted_rows_by_country,\n",
    "    get_formatted_rows_yes_no,\n",
    "    get_formatted_rows_categorical_by_country,\n",
    "    get_formatted_rows_by_country_single\n",
    ")\n",
    "from edc_constants.choices import YES_NO\n",
    "\n"
   ],
   "id": "93b6b9b40b6092e7",
   "outputs": [],
   "execution_count": null
  },
  {
   "metadata": {},
   "cell_type": "code",
   "source": "df_main = get_df_main_1858(None)\n",
   "id": "12e509ef83269d93",
   "outputs": [],
   "execution_count": null
  },
  {
   "metadata": {},
   "cell_type": "code",
   "source": "df_main[df_main.dm==1].dm.value_counts()",
   "id": "aa23c4d658aaa0c",
   "outputs": [],
   "execution_count": null
  },
  {
   "metadata": {},
   "cell_type": "code",
   "source": [
    "# yes_no_mapping = {tpl[0]:tpl[1] for tpl in YES_NO}\n",
    "yes_no_mapping = {1: 'Yes', 0: 'No'}\n"
   ],
   "id": "b769c7c2d98d5a18",
   "outputs": [],
   "execution_count": null
  },
  {
   "metadata": {},
   "cell_type": "code",
   "source": "table_dfs = []",
   "id": "44183f1a97aeecf2",
   "outputs": [],
   "execution_count": null
  },
  {
   "metadata": {},
   "cell_type": "code",
   "source": [
    "# AGE\n",
    "table = {'Condition': ['All', '', '']}\n",
    "table.update({\n",
    "    'Parameter': ['Age', '', ''],\n",
    "    **get_formatted_rows_by_country_single(df_main, \"age_in_years\")\n",
    "})\n",
    "table_df = pd.DataFrame(table)\n",
    "table_dfs.append(table_df)"
   ],
   "id": "b3f68cee3df2cfba",
   "outputs": [],
   "execution_count": null
  },
  {
   "metadata": {},
   "cell_type": "code",
   "source": [
    "# gender\n",
    "table = {'Condition': ['All', '', '']}\n",
    "table.update({\n",
    "    'Parameter': ['Sex', '', ''],\n",
    "    **get_formatted_rows_categorical_by_country(df_main, \"gender\")\n",
    "})\n",
    "table_df = pd.DataFrame(table)\n",
    "table_dfs.append(table_df)"
   ],
   "id": "ec06fe9e25522af2",
   "outputs": [],
   "execution_count": null
  },
  {
   "metadata": {},
   "cell_type": "code",
   "source": [
    "# Weight\n",
    "table = {'Condition': ['All', '', '']}\n",
    "table.update({\n",
    "    'Parameter': ['Weight', '', ''],\n",
    "    **get_formatted_rows_by_country_single(df_main, \"weight\")\n",
    "})\n",
    "table_df = pd.DataFrame(table)\n",
    "table_df.drop(columns=[\"Timepoint\"], inplace=True)\n",
    "table_dfs.append(table_df)"
   ],
   "id": "7153fbb92454ad8",
   "outputs": [],
   "execution_count": null
  },
  {
   "metadata": {},
   "cell_type": "code",
   "source": [
    "# height\n",
    "table = {'Condition': ['All', '', '']}\n",
    "table.update({\n",
    "    'Parameter': ['Height', '', ''],\n",
    "    **get_formatted_rows_by_country_single(df_main, \"height\")\n",
    "})\n",
    "table_df = pd.DataFrame(table)\n",
    "table_dfs.append(table_df)"
   ],
   "id": "56f7b9ac090f3209",
   "outputs": [],
   "execution_count": null
  },
  {
   "metadata": {},
   "cell_type": "code",
   "source": "yes_no_mapping",
   "id": "27d4c7a4265de377",
   "outputs": [],
   "execution_count": null
  },
  {
   "metadata": {},
   "cell_type": "code",
   "source": [
    "from intecomm_rando.constants import COMMUNITY_ARM, FACILITY_ARM\n",
    "\n",
    "from intecomm_analytics.dataframes import treatment_arm_labels as treatment_arm\n",
    "\n",
    "def get_cells_for_categorical(df: pd.DataFrame, col: str, arm: str | None = None) -> list[str]:\n",
    "    if arm:\n",
    "        n = len(df[(df[\"assignment\"] == arm) & (df[col].notna())])\n",
    "        counts = df[(df[\"assignment\"] == arm) & (df[col].notna())][col].value_counts()\n",
    "        percentages = (\n",
    "            df[(df[\"assignment\"] == arm) & (df[col].notna())][col].value_counts(normalize=True)\n",
    "            * 100\n",
    "        )\n",
    "    else:\n",
    "        n = len(df[(df[col].notna())])\n",
    "        counts = df[(df[col].notna())][col].value_counts()\n",
    "        percentages = df[(df[col].notna())][col].value_counts(normalize=True) * 100\n",
    "\n",
    "    cells = [\n",
    "        f\"{counts.get(category, 0)} ({percentages.get(category, 0):.1f}%)\"\n",
    "        for category in df[df[col].notna()][col].unique().tolist()\n",
    "    ]\n",
    "    return [n, *cells]\n",
    "\n",
    "def get_formatted_rows_categorical_by_country(\n",
    "    df: pd.DataFrame, col: str, mapping: dict | None = None\n",
    "):\n",
    "    \"\"\"Returns 5 columns\"\"\"\n",
    "    rows = {}\n",
    "    if mapping:\n",
    "        df = df.copy()\n",
    "        df[col] = df[col].apply(lambda x: mapping[x] if pd.notna(x) else x)\n",
    "    func = get_cells_for_categorical\n",
    "\n",
    "    categories = df[df[col].notna()][col].unique().tolist()\n",
    "\n",
    "    rows.update(\n",
    "        {\n",
    "            \"Statistics\": [\"n\", *categories],\n",
    "        }\n",
    "    )\n",
    "    rows.update(\n",
    "        {\n",
    "            f\"{treatment_arm[COMMUNITY_ARM]} UG\": [\n",
    "                *func(df[df.country == \"UG\"], col, arm=\"a\"),\n",
    "            ],\n",
    "            f\"{treatment_arm[COMMUNITY_ARM]} TZ\": [\n",
    "                *func(df[df.country == \"TZ\"], col, arm=\"a\"),\n",
    "            ],\n",
    "            f\"{treatment_arm[COMMUNITY_ARM]} BOTH\": [\n",
    "                *func(df, col, arm=\"a\"),\n",
    "            ],\n",
    "            f\"{treatment_arm[FACILITY_ARM]} UG\": [\n",
    "                *func(df[df.country == \"UG\"], col, arm=\"b\"),\n",
    "            ],\n",
    "            f\"{treatment_arm[FACILITY_ARM]} TZ\": [\n",
    "                *func(df[df.country == \"TZ\"], col, arm=\"b\"),\n",
    "            ],\n",
    "            f\"{treatment_arm[FACILITY_ARM]} BOTH\": [\n",
    "                *func(df, col, arm=\"b\"),\n",
    "            ],\n",
    "            \"All\": [*func(df, col)],\n",
    "        }\n",
    "    )\n",
    "    return rows"
   ],
   "id": "f9b0e85b007b5896",
   "outputs": [],
   "execution_count": null
  },
  {
   "metadata": {},
   "cell_type": "code",
   "source": [
    "#\n",
    "table = {'Condition': ['Condition', '', '']}\n",
    "table.update({\n",
    "    'Parameter': ['HIV only', '', ''],\n",
    "    **get_formatted_rows_categorical_by_country(df_main, \"hiv_only\",mapping=yes_no_mapping)\n",
    "})\n",
    "table_df = pd.DataFrame(table)\n",
    "table_df[\"Statistics\"] = pd.Categorical(table_df[\"Statistics\"], categories=[\"n\", *yes_no_mapping.values()], ordered=True)\n",
    "table_df = table_df.sort_values(by=[\"Statistics\"], ascending=True)\n",
    "table_dfs.append(table_df)"
   ],
   "id": "3a0f1f2ca9a6c1d7",
   "outputs": [],
   "execution_count": null
  },
  {
   "metadata": {},
   "cell_type": "code",
   "source": [
    "table.update({\n",
    "    'Parameter': ['NCD only', '', ''],\n",
    "    **get_formatted_rows_categorical_by_country(df_main, \"ncd\",mapping=yes_no_mapping)\n",
    "})\n",
    "table_df = pd.DataFrame(table)\n",
    "table_df[\"Statistics\"] = pd.Categorical(table_df[\"Statistics\"], categories=[\"n\", *yes_no_mapping.values()], ordered=True)\n",
    "table_df = table_df.sort_values(by=[\"Statistics\"], ascending=True)\n",
    "table_dfs.append(table_df)"
   ],
   "id": "ca505567e0dda29f",
   "outputs": [],
   "execution_count": null
  },
  {
   "metadata": {},
   "cell_type": "code",
   "source": [
    "table.update({\n",
    "    'Parameter': ['DM only', '', ''],\n",
    "    **get_formatted_rows_categorical_by_country(df_main, \"dm_only\",mapping=yes_no_mapping)\n",
    "})\n",
    "table_df = pd.DataFrame(table)\n",
    "table_df[\"Statistics\"] = pd.Categorical(table_df[\"Statistics\"], categories=[\"n\", *yes_no_mapping.values()], ordered=True)\n",
    "table_df = table_df.sort_values(by=[\"Statistics\"], ascending=True)\n",
    "table_dfs.append(table_df)"
   ],
   "id": "647ab3dee932f05d",
   "outputs": [],
   "execution_count": null
  },
  {
   "metadata": {},
   "cell_type": "code",
   "source": [
    "table.update({\n",
    "    'Parameter': ['HTN only', '', ''],\n",
    "    **get_formatted_rows_categorical_by_country(df_main, \"htn_only\",mapping=yes_no_mapping)\n",
    "})\n",
    "table_df = pd.DataFrame(table)\n",
    "table_df[\"Statistics\"] = pd.Categorical(table_df[\"Statistics\"], categories=[\"n\", *yes_no_mapping.values()], ordered=True)\n",
    "table_df = table_df.sort_values(by=[\"Statistics\"], ascending=True)\n",
    "table_dfs.append(table_df)"
   ],
   "id": "52ebddbd5def12aa",
   "outputs": [],
   "execution_count": null
  },
  {
   "metadata": {},
   "cell_type": "code",
   "source": [
    "table.update({\n",
    "    'Parameter': ['HIV', '', ''],\n",
    "    **get_formatted_rows_categorical_by_country(df_main, \"hiv\",mapping=yes_no_mapping)\n",
    "})\n",
    "table_df = pd.DataFrame(table)\n",
    "table_df[\"Statistics\"] = pd.Categorical(table_df[\"Statistics\"], categories=[\"n\", *yes_no_mapping.values()], ordered=True)\n",
    "table_df = table_df.sort_values(by=[\"Statistics\"], ascending=True)\n",
    "table_dfs.append(table_df)"
   ],
   "id": "683c7e48f6de769",
   "outputs": [],
   "execution_count": null
  },
  {
   "metadata": {},
   "cell_type": "code",
   "source": [
    "table.update({\n",
    "    'Parameter': ['DM', '', ''],\n",
    "    **get_formatted_rows_categorical_by_country(df_main, \"dm\",mapping=yes_no_mapping)\n",
    "})\n",
    "table_df = pd.DataFrame(table)\n",
    "table_df[\"Statistics\"] = pd.Categorical(table_df[\"Statistics\"], categories=[\"n\", *yes_no_mapping.values()], ordered=True)\n",
    "table_df = table_df.sort_values(by=[\"Statistics\"], ascending=True)\n",
    "table_dfs.append(table_df)"
   ],
   "id": "b3240346b67f33e1",
   "outputs": [],
   "execution_count": null
  },
  {
   "metadata": {},
   "cell_type": "code",
   "source": [
    "table.update({\n",
    "    'Parameter': ['HTN', '', ''],\n",
    "    **get_formatted_rows_categorical_by_country(df_main, \"htn\",mapping=yes_no_mapping)\n",
    "})\n",
    "table_df = pd.DataFrame(table)\n",
    "table_df[\"Statistics\"] = pd.Categorical(table_df[\"Statistics\"], categories=[\"n\", *yes_no_mapping.values()], ordered=True)\n",
    "table_df = table_df.sort_values(by=[\"Statistics\"], ascending=True)\n",
    "table_dfs.append(table_df)"
   ],
   "id": "12ce18f848857bce",
   "outputs": [],
   "execution_count": null
  },
  {
   "metadata": {},
   "cell_type": "code",
   "source": [
    "table.update({\n",
    "    'Parameter': ['HTN and DM', '', ''],\n",
    "    **get_formatted_rows_categorical_by_country(df_main, \"htn_and_dm\",mapping=yes_no_mapping)\n",
    "})\n",
    "table_df = pd.DataFrame(table)\n",
    "table_df[\"Statistics\"] = pd.Categorical(table_df[\"Statistics\"], categories=[\"n\", *yes_no_mapping.values()], ordered=True)\n",
    "table_df = table_df.sort_values(by=[\"Statistics\"], ascending=True)\n",
    "table_dfs.append(table_df)"
   ],
   "id": "6263dd2b8bed29ae",
   "outputs": [],
   "execution_count": null
  },
  {
   "metadata": {},
   "cell_type": "code",
   "source": [
    "table.update({\n",
    "    'Parameter': ['HTN and DM and HIV', '', ''],\n",
    "    **get_formatted_rows_categorical_by_country(df_main, \"hiv_and_htn_and_dm\",mapping=yes_no_mapping)\n",
    "})\n",
    "table_df = pd.DataFrame(table)\n",
    "table_df[\"Statistics\"] = pd.Categorical(table_df[\"Statistics\"], categories=[\"n\", 'Yes', 'No'], ordered=True)\n",
    "table_df = table_df.sort_values(by=[\"Statistics\"], ascending=True)\n",
    "table_dfs.append(table_df)\n"
   ],
   "id": "ecb42ca8902737c4",
   "outputs": [],
   "execution_count": null
  },
  {
   "metadata": {},
   "cell_type": "code",
   "source": "",
   "id": "69c2b6e21ae3be31",
   "outputs": [],
   "execution_count": null
  },
  {
   "metadata": {},
   "cell_type": "code",
   "source": [
    "from edc_constants.choices import SMOKER_STATUS_SIMPLE\n",
    "from intecomm_subject.choices import EMPLOYMENT_STATUS, EDUCATION, MARITAL_STATUS, \\\n",
    "    ALCOHOL_CONSUMPTION\n",
    "\n",
    "for col, choices in [(\"education\",EDUCATION), (\"employment_status\",EMPLOYMENT_STATUS), (\"marital_status\",MARITAL_STATUS), (\"smoking_status\",SMOKER_STATUS_SIMPLE),  (\"alcohol_consumption\", ALCOHOL_CONSUMPTION)]:\n",
    "    mapping = {tpl[0]:tpl[1] for tpl in choices}\n",
    "    rows = len(get_formatted_rows_categorical_by_country(df_main, col).get('Statistics')) -1\n",
    "    placeholders = [''] * rows\n",
    "    table = {'Condition': ['All', *placeholders]}\n",
    "    table.update({\n",
    "        'Parameter': [col.replace(\"_\", \" \").title(), *placeholders],\n",
    "        **get_formatted_rows_categorical_by_country(df_main, col, mapping=mapping)\n",
    "    })\n",
    "    table_df = pd.DataFrame(table)\n",
    "    table_df[\"Statistics\"] = pd.Categorical(table_df[\"Statistics\"], categories=[\"n\", *mapping.values()], ordered=True)\n",
    "    table_df = table_df.sort_values(by=[\"Statistics\"], ascending=True)\n",
    "    table_dfs.append(table_df)\n"
   ],
   "id": "e6c531f6ca0ed1cb",
   "outputs": [],
   "execution_count": null
  },
  {
   "metadata": {},
   "cell_type": "code",
   "source": [
    "for col in [\"stroke\", \"heart_attack\", \"renal_disease\", \"vision\", \"numbness\", \"foot_ulcers\"]:\n",
    "    rows = len(get_formatted_rows_categorical_by_country(df_main, col).get('Statistics')) -1\n",
    "    placeholders = [''] * rows\n",
    "    table = {'Condition': ['All', *placeholders]}\n",
    "    table.update({\n",
    "        'Parameter': [col.replace(\"_\", \" \").title(), *placeholders],\n",
    "        **get_formatted_rows_categorical_by_country(df_main, col)\n",
    "    })\n",
    "    table_df = pd.DataFrame(table)\n",
    "    table_df[\"Statistics\"] = pd.Categorical(table_df[\"Statistics\"], categories=[\"n\", 'Yes', 'No'], ordered=True)\n",
    "    table_df = table_df.sort_values(by=[\"Statistics\"], ascending=True)\n",
    "    table_dfs.append(table_df)\n"
   ],
   "id": "5400da441050719a",
   "outputs": [],
   "execution_count": null
  },
  {
   "metadata": {},
   "cell_type": "code",
   "source": [
    "table = pd.concat(table_dfs)\n",
    "table.to_csv(analysis_folder  / \"demographics.csv\", index=False)"
   ],
   "id": "91ca54c257d6214b",
   "outputs": [],
   "execution_count": null
  }
 ],
 "metadata": {
  "kernelspec": {
   "display_name": "Python 3",
   "language": "python",
   "name": "python3"
  },
  "language_info": {
   "codemirror_mode": {
    "name": "ipython",
    "version": 2
   },
   "file_extension": ".py",
   "mimetype": "text/x-python",
   "name": "python",
   "nbconvert_exporter": "python",
   "pygments_lexer": "ipython2",
   "version": "2.7.6"
  }
 },
 "nbformat": 4,
 "nbformat_minor": 5
}
