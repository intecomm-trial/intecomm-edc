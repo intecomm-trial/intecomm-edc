{
 "cells": [
  {
   "cell_type": "code",
   "id": "initial_id",
   "metadata": {
    "collapsed": true
   },
   "source": [
    "%%capture\n",
    "import os\n",
    "import pandas as pd\n",
    "import numpy as np\n",
    "from dj_notebook import activate\n",
    "from pathlib import Path\n",
    "\n",
    "env_file = os.environ[\"INTECOMM_ENV\"]\n",
    "analysis_folder = Path(os.environ[\"INTECOMM_ANALYSIS_FOLDER\"])\n",
    "reports_folder = Path(os.environ[\"INTECOMM_ANALYSIS_FOLDER\"])\n",
    "plus = activate(dotenv_file=env_file)"
   ],
   "outputs": [],
   "execution_count": null
  },
  {
   "metadata": {},
   "cell_type": "code",
   "source": [
    "from intecomm_analytics.dataframes import get_df_main_1858\n",
    "from edc_constants.constants import NO, YES\n",
    "from intecomm_analytics.constants import HIV_ALONE, HTN_ALONE, DM_ALONE, HTN_DM\n"
   ],
   "id": "4ed2d0bd896e28f1",
   "outputs": [],
   "execution_count": null
  },
  {
   "metadata": {},
   "cell_type": "code",
   "source": "df_main = get_df_main_1858(None)\n",
   "id": "930893975084aa58",
   "outputs": [],
   "execution_count": null
  },
  {
   "metadata": {},
   "cell_type": "code",
   "source": "[col for col in df_main.columns if col.startswith(\"primary\")]",
   "id": "d1c59540510a9609",
   "outputs": [],
   "execution_count": null
  },
  {
   "metadata": {},
   "cell_type": "code",
   "source": "df_main[[col for col in df_main.columns if col.startswith(\"primary\")]]\n",
   "id": "19ccb680f349eb44",
   "outputs": [],
   "execution_count": null
  },
  {
   "metadata": {},
   "cell_type": "code",
   "source": [
    "def get_yes_no(s):\n",
    "    if pd.notna(s.primary_controlled):\n",
    "        return YES if s.primary_controlled == 1 else NO\n",
    "    return 'Missing'"
   ],
   "id": "75341a14a3f06585",
   "outputs": [],
   "execution_count": null
  },
  {
   "metadata": {},
   "cell_type": "code",
   "source": [
    "df = df_main[df_main.primary_cohort.isin([HTN_ALONE, DM_ALONE, HTN_DM])].groupby(by=[\"assignment\", \"primary_controlled\"], dropna=False).size().reset_index(name=\"count\")\n",
    "df[\"primary_controlled\"] = df.apply(get_yes_no, axis=1)\n",
    "df_pivot = df.pivot_table(index=\"primary_controlled\", columns=\"assignment\", values=\"count\", fill_value=0).reset_index()\n",
    "df_pivot.columns.name = None\n",
    "df_pivot['total'] = df_pivot['a'] + df_pivot['b']\n",
    "totals = df_pivot.sum(numeric_only=True)\n",
    "totals['primary_controlled'] = 'Total'\n",
    "df_pivot = pd.concat([df_pivot, totals.to_frame().T], ignore_index=True)\n",
    "df_pivot = pd.concat([df_pivot.loc[0:2].sort_values(by=\"primary_controlled\", ascending=False), df_pivot.loc[3:]]).reset_index(drop=True)\n",
    "df_pivot\n"
   ],
   "id": "9dfaf348884c4f49",
   "outputs": [],
   "execution_count": null
  },
  {
   "metadata": {},
   "cell_type": "code",
   "source": "",
   "id": "819e6db45ba7d24",
   "outputs": [],
   "execution_count": null
  },
  {
   "metadata": {},
   "cell_type": "code",
   "source": [
    "df = df_main[df_main.primary_cohort.isin([HIV_ALONE])].groupby(by=[\"assignment\", \"primary_controlled\"], dropna=False).size().reset_index(name=\"count\")\n",
    "df[\"primary_controlled\"] = df.apply(get_yes_no, axis=1)\n",
    "df_pivot = df.pivot_table(index=\"primary_controlled\", columns=\"assignment\", values=\"count\", fill_value=0).reset_index()\n",
    "df_pivot.columns.name = None\n",
    "df_pivot['total'] = df_pivot['a'] + df_pivot['b']\n",
    "totals = df_pivot.sum(numeric_only=True)\n",
    "totals['primary_controlled'] = 'Total'\n",
    "df_pivot = pd.concat([df_pivot, totals.to_frame().T], ignore_index=True)\n",
    "df_pivot = pd.concat([df_pivot.loc[0:1].sort_values(by=\"primary_controlled\", ascending=False), df_pivot.loc[2:]]).reset_index(drop=True)\n",
    "df_pivot"
   ],
   "id": "982f6a19fb48b4e7",
   "outputs": [],
   "execution_count": null
  },
  {
   "metadata": {},
   "cell_type": "code",
   "source": "",
   "id": "30e46e7ef345f812",
   "outputs": [],
   "execution_count": null
  }
 ],
 "metadata": {
  "kernelspec": {
   "display_name": "Python 3",
   "language": "python",
   "name": "python3"
  },
  "language_info": {
   "codemirror_mode": {
    "name": "ipython",
    "version": 2
   },
   "file_extension": ".py",
   "mimetype": "text/x-python",
   "name": "python",
   "nbconvert_exporter": "python",
   "pygments_lexer": "ipython2",
   "version": "2.7.6"
  }
 },
 "nbformat": 4,
 "nbformat_minor": 5
}
