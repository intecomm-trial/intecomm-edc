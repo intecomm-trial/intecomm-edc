{
 "cells": [
  {
   "metadata": {},
   "cell_type": "code",
   "source": [
    "%%capture\n",
    "import os\n",
    "import pandas as pd\n",
    "import numpy as np\n",
    "from dj_notebook import activate\n",
    "from pathlib import Path\n",
    "\n",
    "env_file = os.environ[\"INTECOMM_ENV\"]\n",
    "analysis_folder = Path(os.environ[\"INTECOMM_ANALYSIS_FOLDER\"])\n",
    "reports_folder = Path(os.environ[\"INTECOMM_ANALYSIS_FOLDER\"])\n",
    "plus = activate(dotenv_file=env_file)\n"
   ],
   "id": "cfb9067522b0190b",
   "outputs": [],
   "execution_count": null
  },
  {
   "metadata": {},
   "cell_type": "code",
   "source": [
    "from intecomm_analytics.dataframes import get_df_main_1858\n",
    "from intecomm_analytics.notebooks.primary.table_utils import (\n",
    "    get_formatted_rows_by_country,\n",
    ")"
   ],
   "id": "b76f2d09a60b866c",
   "outputs": [],
   "execution_count": null
  },
  {
   "metadata": {},
   "cell_type": "code",
   "source": "df_main = get_df_main_1858(None)",
   "id": "cb3aac5af91fa4a2",
   "outputs": [],
   "execution_count": null
  },
  {
   "metadata": {},
   "cell_type": "code",
   "source": [
    "df_hiv = df_main[(df_main.htn==0) & (df_main.dm==0) & (df_main.hiv==1)][[\"vl_baseline\", \"vl_endline\", \"ncd\", \"hiv\", \"dm\", \"htn\", \"assignment\", \"country\", \"onstudy_days\"]].copy()\n",
    "df_hiv[\"vl_baseline\"] = df_hiv[\"vl_baseline\"].astype(float)\n",
    "df_hiv[\"vl_endline\"] = df_hiv[\"vl_endline\"].astype(float)\n",
    "df_hiv.reset_index(drop=True, inplace=True)"
   ],
   "id": "ebc5db53379b7b85",
   "outputs": [],
   "execution_count": null
  },
  {
   "metadata": {},
   "cell_type": "code",
   "source": [
    "vl_table = {'Condition': ['HIV', '', '', '', '', '']}\n",
    "vl_table.update({\n",
    "    'Parameter': ['VL (copies/mL)', '', '', '', '', ''],\n",
    "    **get_formatted_rows_by_country(df_hiv, \"vl_baseline\", \"vl_endline\")\n",
    "})\n",
    "vl_df = pd.DataFrame(vl_table)"
   ],
   "id": "683179422953591f",
   "outputs": [],
   "execution_count": null
  },
  {
   "metadata": {},
   "cell_type": "code",
   "source": [
    "# export as csv\n",
    "path = analysis_folder / 'vl_by_country.csv'\n",
    "vl_df.to_csv(path_or_buf=path, index=False)"
   ],
   "id": "7aa1bceab810fd9a",
   "outputs": [],
   "execution_count": null
  }
 ],
 "metadata": {
  "kernelspec": {
   "display_name": "Python 3",
   "language": "python",
   "name": "python3"
  },
  "language_info": {
   "codemirror_mode": {
    "name": "ipython",
    "version": 2
   },
   "file_extension": ".py",
   "mimetype": "text/x-python",
   "name": "python",
   "nbconvert_exporter": "python",
   "pygments_lexer": "ipython2",
   "version": "2.7.6"
  }
 },
 "nbformat": 4,
 "nbformat_minor": 5
}
