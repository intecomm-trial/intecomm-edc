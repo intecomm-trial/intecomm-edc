{
 "cells": [
  {
   "metadata": {},
   "cell_type": "code",
   "source": [
    "%%capture\n",
    "import os\n",
    "import pandas as pd\n",
    "import numpy as np\n",
    "from dj_notebook import activate\n",
    "from pathlib import Path\n",
    "\n",
    "env_file = os.environ[\"INTECOMM_ENV\"]\n",
    "documents_folder = Path(os.environ[\"INTECOMM_DOCUMENTS_FOLDER\"])\n",
    "plus = activate(dotenv_file=env_file)\n",
    "report_folder = Path(documents_folder)\n"
   ],
   "id": "49dc2fe82d026701",
   "outputs": [],
   "execution_count": null
  },
  {
   "metadata": {},
   "cell_type": "code",
   "source": [
    "from statsmodels.genmod.generalized_estimating_equations import GEE\n",
    "from statsmodels.genmod.families import Binomial\n",
    "from statsmodels.stats.proportion import proportion_confint\n"
   ],
   "id": "bb0320d67758e55b",
   "outputs": [],
   "execution_count": null
  },
  {
   "metadata": {},
   "cell_type": "code",
   "source": [
    "path = documents_folder / 'df_bp.csv'\n",
    "df_bp = pd.read_csv(path)\n",
    "df_bp\n",
    "\n"
   ],
   "id": "a8209024d7eda89c",
   "outputs": [],
   "execution_count": null
  },
  {
   "metadata": {},
   "cell_type": "code",
   "source": [
    "path = documents_folder / 'df_glucose_gee.csv'\n",
    "df_glucose_gee = pd.read_csv(path)\n",
    "df_glucose_gee\n"
   ],
   "id": "691b7786e550a699",
   "outputs": [],
   "execution_count": null
  },
  {
   "metadata": {},
   "cell_type": "code",
   "source": "df_gee = pd.merge(df_bp, df_glucose_gee, on=[\"subject_identifier\",\"assignment\", \"time\"], how=\"outer\")",
   "id": "1cfedb7a2945890f",
   "outputs": [],
   "execution_count": null
  },
  {
   "metadata": {},
   "cell_type": "code",
   "source": [
    "def is_controlled(s):\n",
    "    if pd.notna(s[\"bp_controlled\"]) and pd.notna(s[\"glucose_controlled\"]):\n",
    "        if s[\"bp_controlled\"] is True and s[\"glucose_controlled\"] is True:\n",
    "            return True\n",
    "        elif s[\"bp_controlled\"] is False and s[\"glucose_controlled\"] is False:\n",
    "            return False\n",
    "        else:\n",
    "            return True\n",
    "    elif pd.notna(s[\"bp_controlled\"]) and pd.isna(s[\"glucose_controlled\"]):\n",
    "        return s[\"bp_controlled\"]\n",
    "    elif pd.isna(s[\"bp_controlled\"]) and pd.notna(s[\"glucose_controlled\"]):\n",
    "        return s[\"glucose_controlled\"]\n",
    "    else:\n",
    "        return np.nan\n",
    "\n",
    "\n",
    "df_gee[\"controlled\"] = df_gee.apply(is_controlled, axis=1)\n",
    "df_gee.drop(columns={\"bp_controlled\", \"glucose_controlled\"}, inplace=True)\n",
    "df_gee"
   ],
   "id": "42b009ba72b04771",
   "outputs": [],
   "execution_count": null
  },
  {
   "metadata": {},
   "cell_type": "code",
   "source": [
    "df = df_gee.copy()\n",
    "\n",
    "# Define the dependent variable and independent variables\n",
    "dependent_var = 'controlled'\n",
    "independent_vars = ['assignment', 'time']\n",
    "\n",
    "# Convert categorical variables to dummy variables\n",
    "df = pd.get_dummies(df, columns=['assignment', 'time'], drop_first=True)\n",
    "\n",
    "# Update the list of independent variables after creating dummy variables\n",
    "independent_vars = [col for col in df.columns if col not in ['controlled', 'subject_identifier']]\n",
    "\n",
    "# Define the model\n",
    "model = GEE(df[dependent_var], df[independent_vars], groups=df['subject_identifier'], family=Binomial())\n",
    "\n",
    "# Fit the model\n",
    "result = model.fit()\n",
    "print(result.summary())"
   ],
   "id": "d38d0f550e298469",
   "outputs": [],
   "execution_count": null
  },
  {
   "metadata": {},
   "cell_type": "code",
   "source": [
    "\n",
    "df = df_gee.copy()\n",
    "\n",
    "# Calculate the crude risk difference\n",
    "risk_a = df[df['assignment'] == 'a']['controlled'].mean()\n",
    "risk_b = df[df['assignment'] == 'b']['controlled'].mean()\n",
    "crude_risk_difference = risk_b - risk_a\n",
    "\n",
    "# Calculate the confidence interval for the crude risk difference\n",
    "n_a = df[df['assignment'] == 'a'].shape[0]\n",
    "n_b = df[df['assignment'] == 'b'].shape[0]\n",
    "ci_low_a, ci_upp_a = proportion_confint(count=df[df['assignment'] == 'a']['controlled'].sum(), nobs=n_a, alpha=0.05, method='normal')\n",
    "ci_low_b, ci_upp_b = proportion_confint(count=df[df['assignment'] == 'b']['controlled'].sum(), nobs=n_b, alpha=0.05, method='normal')\n",
    "\n",
    "# Calculate the confidence interval for the risk difference\n",
    "ci_low_diff = (risk_b - ci_upp_a) - (risk_a - ci_upp_b)\n",
    "ci_upp_diff = (risk_b + ci_low_a) - (risk_a + ci_low_b)\n",
    "\n",
    "print(f\"Crude Risk Difference: {crude_risk_difference}\")\n",
    "print(f\"95% Confidence Interval for Crude Risk Difference: ({ci_low_diff}, {ci_upp_diff})\")"
   ],
   "id": "969bfc72b146637d",
   "outputs": [],
   "execution_count": null
  },
  {
   "metadata": {},
   "cell_type": "code",
   "source": "",
   "id": "10d1fae884c5c078",
   "outputs": [],
   "execution_count": null
  }
 ],
 "metadata": {
  "kernelspec": {
   "display_name": "Python 3",
   "language": "python",
   "name": "python3"
  },
  "language_info": {
   "codemirror_mode": {
    "name": "ipython",
    "version": 2
   },
   "file_extension": ".py",
   "mimetype": "text/x-python",
   "name": "python",
   "nbconvert_exporter": "python",
   "pygments_lexer": "ipython2",
   "version": "2.7.6"
  }
 },
 "nbformat": 4,
 "nbformat_minor": 5
}
