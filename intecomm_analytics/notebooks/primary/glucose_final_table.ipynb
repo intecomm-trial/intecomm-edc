{
 "cells": [
  {
   "cell_type": "code",
   "id": "initial_id",
   "metadata": {
    "collapsed": true
   },
   "source": [
    "%%capture\n",
    "import os\n",
    "from pathlib import Path\n",
    "import pandas as pd\n",
    "\n",
    "from dj_notebook import activate\n",
    "\n",
    "env_file = os.environ[\"INTECOMM_ENV\"]\n",
    "reports_folder = Path(os.environ[\"INTECOMM_REPORTS_FOLDER\"])\n",
    "analysis_folder = Path(os.environ[\"INTECOMM_ANALYSIS_FOLDER\"])\n",
    "plus = activate(dotenv_file=env_file)\n"
   ],
   "outputs": [],
   "execution_count": null
  },
  {
   "metadata": {},
   "cell_type": "code",
   "source": [
    "\"\"\"\n",
    "Assumptions\n",
    "1. fasting must be >=8hrs\n",
    "2. take latest measurement if more than one at endline at same timepoint\n",
    "3. two records need unites to be changes\n",
    "\n",
    "\"\"\""
   ],
   "id": "e3a6ffbca289a476",
   "outputs": [],
   "execution_count": null
  },
  {
   "metadata": {},
   "cell_type": "code",
   "source": [
    "from intecomm_analytics.dataframes import get_df_main_1858\n",
    "from tabulate import tabulate\n",
    "from edc_constants.constants import NO, YES\n",
    "from intecomm_analytics.dataframes import treatment_arm_labels as treatment_arm\n",
    "from intecomm_rando.constants import FACILITY_ARM, COMMUNITY_ARM\n",
    "\n"
   ],
   "id": "1f3ecbaa23a8a417",
   "outputs": [],
   "execution_count": null
  },
  {
   "metadata": {},
   "cell_type": "code",
   "source": [
    "narrative = []\n",
    "\n",
    "# boudaries for first measurement\n",
    "baseline_lower_bound = -180\n",
    "baseline_upper_bound = 31\n",
    "\n",
    "# boudaries for last measurement\n",
    "endline_lower_bound = 182\n",
    "\n",
    "# boundaries for diagnosis\n",
    "days_since_dx = 180\n",
    "\n",
    "# boundaries for fasting\n",
    "fasting_hours = 8\n",
    "\n"
   ],
   "id": "5ad85d47023848ef",
   "outputs": [],
   "execution_count": null
  },
  {
   "metadata": {},
   "cell_type": "code",
   "source": [
    "# get 1858\n",
    "df_main_original = get_df_main_1858(None)\n",
    "df_main = df_main_original.copy()\n"
   ],
   "id": "19c5bcda4582c791",
   "outputs": [],
   "execution_count": null
  },
  {
   "metadata": {},
   "cell_type": "code",
   "source": "df_main.country.value_counts()",
   "id": "4df3a007650c9f67",
   "outputs": [],
   "execution_count": null
  },
  {
   "metadata": {},
   "cell_type": "code",
   "source": [
    "msg = f\"There are {len(df_main[(df_main.dm_scr==1)])}/{len(df_main)} subjects with DM reported at screening\"\n",
    "narrative.append(msg)\n",
    "print(msg)\n"
   ],
   "id": "b2b62e4c63fbc88b",
   "outputs": [],
   "execution_count": null
  },
  {
   "metadata": {},
   "cell_type": "code",
   "source": [
    "msg = f\"There are {len( df_main[(df_main.dm==1)])}/{len(df_main)} subjects with DM confirmed at baseline and diagnosed at least {days_since_dx} days before baseline\"\n",
    "narrative.append(msg)\n",
    "print(msg)\n"
   ],
   "id": "8a03065bff0d084d",
   "outputs": [],
   "execution_count": null
  },
  {
   "metadata": {},
   "cell_type": "code",
   "source": [
    "msg = f\"There are {len(df_main[(df_main.dm==1) & (df_main.hiv==0)])}/{len(df_main[(df_main.dm==1)])} HIV(-) subjects with All confirmed at baseline and diagnosed at least {days_since_dx} days before baseline\"\n",
    "narrative.append(msg)\n",
    "print(msg)\n",
    "\n"
   ],
   "id": "1c0b714162892788",
   "outputs": [],
   "execution_count": null
  },
  {
   "metadata": {},
   "cell_type": "code",
   "source": [
    "msg = f\"There are {len(df_main[(df_main.htn==0) & (df_main.dm==1) & (df_main.hiv==0)])}/{len(df_main[(df_main.dm==1) & (df_main.hiv==0)])} HIV(-) subjects with DM ONLY confirmed at baseline and diagnosed at least {days_since_dx} days before baseline\"\n",
    "narrative.append(msg)\n",
    "print(msg)\n"
   ],
   "id": "a4d5dbb39fcfcbce",
   "outputs": [],
   "execution_count": null
  },
  {
   "metadata": {},
   "cell_type": "code",
   "source": "print(\"\\n\".join(narrative))",
   "id": "77fa5bcd3e0cd493",
   "outputs": [],
   "execution_count": null
  },
  {
   "metadata": {},
   "cell_type": "code",
   "source": "len(df_main[(df_main.hiv==0) & (df_main.dm==1)])",
   "id": "8a368848b84ae507",
   "outputs": [],
   "execution_count": null
  },
  {
   "metadata": {},
   "cell_type": "code",
   "source": [
    "def get_cells_for_continuous_var(df)->list[str]:\n",
    "    return [\n",
    "        f\"{int(df['count'])}\",\n",
    "        f\"{df['mean']:.2f}({df['std']:.2f})\",\n",
    "        f\"{df['50%']:.2f}({df['min']:.2f}–{df['max']:.2f})\"\n",
    "    ]\n",
    "\n",
    "def get_cells_for_yes_no(df:pd.DataFrame, col:str, arm:str|None=None)->list[str]:\n",
    "    if arm:\n",
    "        n = len(df[(df['assignment']==arm) & (df[col].notna())])\n",
    "        counts = df[(df['assignment'] == arm) & (df[col].notna())][col].value_counts()\n",
    "        percentages = df[(df['assignment'] == arm) & (df[col].notna())][col].value_counts(normalize=True) * 100\n",
    "    else:\n",
    "        n = len(df[(df[col].notna())])\n",
    "        counts = df[(df[col].notna())][col].value_counts()\n",
    "        percentages = df[(df[col].notna())][col].value_counts(normalize=True) * 100\n",
    "    return [\n",
    "        n,\n",
    "        f\"{counts.get(YES, 0)} ({percentages.get(YES, 0):.1f}%)\",\n",
    "        f\"{counts.get(NO, 0)} ({percentages.get(NO, 0):.1f}%)\"]\n",
    "\n",
    "def get_cells_for_yes_no_missing(df:pd.DataFrame, col:str, arm:str|None=None)->list[str]:\n",
    "    if arm:\n",
    "        n = len(df[(df['assignment']==arm) & (df[col].notna())])\n",
    "        counts = df[(df['assignment'] == arm) & (df[col].notna())][col].value_counts()\n",
    "        percentages = df[(df['assignment'] == arm) & (df[col].notna())][col].value_counts(normalize=True) * 100\n",
    "    else:\n",
    "        n = len(df[(df[col].notna())])\n",
    "        counts = df[(df[col].notna())][col].value_counts()\n",
    "        percentages = df[(df[col].notna())][col].value_counts(normalize=True) * 100\n",
    "    return [\n",
    "        n,\n",
    "        f\"{counts.get(YES, 0)} ({percentages.get(YES, 0):.1f}%)\",\n",
    "        f\"{counts.get(NO, 0)} ({percentages.get(NO, 0):.1f}%)\",\n",
    "        f\"{counts.get('Missing', 0)} ({percentages.get('Missing', 0):.1f}%)\"]\n",
    "\n",
    "\n",
    "def get_formatted_rows_glucose(df, col_baseline:str|None=None, col_endline:str|None=None):\n",
    "    \"\"\"Returns 5 columns\"\"\"\n",
    "\n",
    "    df_base = df.copy()\n",
    "    baseline_a = df_base[df_base['assignment'] == 'a'][col_baseline].describe()\n",
    "    baseline_b = df_base[df_base['assignment'] == 'b'][col_baseline].describe()\n",
    "    baseline_all = df_base[col_baseline].describe()\n",
    "\n",
    "    df_end = df[(df[\"onstudy_days\"] >= 182)].copy()\n",
    "    endline_a = df_end[df_end['assignment'] == 'a'][col_endline].describe()\n",
    "    endline_b = df_end[df_end['assignment'] == 'b'][col_endline].describe()\n",
    "    endline_all = df_end[col_endline].describe()\n",
    "\n",
    "    return  {\n",
    "        'Timepoint': ['Baseline', '', '', 'Endline', '', ''],\n",
    "        'Statistics': ['n', 'Mean(sd)', 'Median(min-max)','n', 'Mean(sd)', 'Median(min-max)'],\n",
    "        treatment_arm[COMMUNITY_ARM]: [\n",
    "            *get_cells_for_continuous_var(baseline_a),\n",
    "            *get_cells_for_continuous_var(endline_a),\n",
    "        ],\n",
    "        treatment_arm[FACILITY_ARM]: [\n",
    "            *get_cells_for_continuous_var(baseline_b),\n",
    "            *get_cells_for_continuous_var(endline_b),\n",
    "        ],\n",
    "        'All': [\n",
    "            *get_cells_for_continuous_var(baseline_all),\n",
    "            *get_cells_for_continuous_var(endline_all),\n",
    "        ],\n",
    "    }\n",
    "\n",
    "def get_formatted_rows_yes_no(df_base:pd.DataFrame,df_end:pd.DataFrame, baseline_col:str, endline_col:str, missing:bool|None=None):\n",
    "    \"\"\"Returns 5 columns\"\"\"\n",
    "    rows = {}\n",
    "    if missing:\n",
    "        func = get_cells_for_yes_no_missing\n",
    "        rows.update({\n",
    "            'Timepoint': ['Baseline', '', '','', 'Endline', '', '',''],\n",
    "            'Statistics': ['n', 'Yes', 'No', \"Missing\", 'n', 'Yes','No', \"Missing\"]})\n",
    "    else:\n",
    "        func = get_cells_for_yes_no\n",
    "        rows.update({\n",
    "            'Timepoint': ['Baseline', '', '', 'Endline', '', ''],\n",
    "            'Statistics': ['n', 'Yes', 'No', 'n', 'Yes', 'No',]})\n",
    "    rows.update({\n",
    "        treatment_arm[COMMUNITY_ARM]: [\n",
    "        *func(df_base, baseline_col, arm=\"a\"),\n",
    "        *func(df_end, endline_col, arm=\"a\"),\n",
    "        ],\n",
    "        treatment_arm[FACILITY_ARM]: [\n",
    "            *func(df_base, baseline_col, arm=\"b\"),\n",
    "            *func(df_end, endline_col, arm=\"b\"),\n",
    "        ],\n",
    "        'All': [\n",
    "            *func(df_base, baseline_col),\n",
    "            *func(df_end, endline_col),\n",
    "        ],\n",
    "        })\n",
    "    return rows"
   ],
   "id": "29caf54b804a7f41",
   "outputs": [],
   "execution_count": null
  },
  {
   "metadata": {},
   "cell_type": "code",
   "source": [
    "# create df_main filtered by condition\n",
    "df_dm_htn = df_main[(df_main.hiv==0) & ((df_main.dm==1) | ((df_main.dm==1) & (df_main.htn==1)))].copy()\n",
    "df_dm_htn.reset_index(inplace=True, drop=True)"
   ],
   "id": "71acd99ee8532c80",
   "outputs": [],
   "execution_count": null
  },
  {
   "metadata": {},
   "cell_type": "code",
   "source": [
    "print(f\"{df_dm_htn[df_dm_htn.glucose_value_baseline.notna()][\"subject_identifier\"].count()} first results\")\n",
    "print(f\"{df_dm_htn[df_dm_htn.glucose_value_endline.notna()][\"subject_identifier\"].count()} last results\")\n",
    "print(f\"{df_dm_htn[(df_dm_htn.glucose_value_baseline.notna()) & (df_dm_htn.glucose_value_endline.notna())][\"subject_identifier\"].count()} first and last results\")"
   ],
   "id": "3e62ec6852b184ce",
   "outputs": [],
   "execution_count": null
  },
  {
   "metadata": {},
   "cell_type": "code",
   "source": [
    "path = analysis_folder / \"df_htn_dm.csv\"\n",
    "df_dm_htn.to_csv(path, index=False)\n"
   ],
   "id": "181ff08357ec2fe8",
   "outputs": [],
   "execution_count": null
  },
  {
   "metadata": {},
   "cell_type": "code",
   "source": [
    "df_dm_and_htn = df_dm_htn[(df_dm_htn.htn==1) & (df_dm_htn.dm==1)].copy()\n",
    "df_dm_only = df_dm_htn[(df_dm_htn.dm==1) & (df_dm_htn.htn==0)].copy()\n"
   ],
   "id": "68248bcc02e754ab",
   "outputs": [],
   "execution_count": null
  },
  {
   "metadata": {},
   "cell_type": "code",
   "source": "",
   "id": "42d5723f59fc8ba0",
   "outputs": [],
   "execution_count": null
  },
  {
   "metadata": {},
   "cell_type": "code",
   "source": [
    "# All\n",
    "glucose_table = {'Condition': ['All', '', '', '', '', '']}\n",
    "glucose_table.update({\n",
    "    'Parameter': ['Glucose level (mmol/L)', '', '', '', '', ''],\n",
    "    **get_formatted_rows_glucose(df_dm_htn, \"glucose_value_baseline\", \"glucose_value_endline\")\n",
    "})\n",
    "table_dm_htn_df = pd.DataFrame(glucose_table)\n",
    "table_dm_htn_df\n"
   ],
   "id": "48cc851eba36d40a",
   "outputs": [],
   "execution_count": null
  },
  {
   "metadata": {},
   "cell_type": "code",
   "source": [
    "# All\n",
    "glucose_table = {'Condition': ['DM and HTN', '', '', '', '', '']}\n",
    "glucose_table.update({\n",
    "    'Parameter': ['Glucose level (mmol/L)', '', '', '', '', ''],\n",
    "    **get_formatted_rows_glucose(df_dm_and_htn, \"glucose_value_baseline\", \"glucose_value_endline\")\n",
    "})\n",
    "table_dm_and_htn_df = pd.DataFrame(glucose_table)\n",
    "table_dm_and_htn_df\n"
   ],
   "id": "e30882d257e63ed2",
   "outputs": [],
   "execution_count": null
  },
  {
   "metadata": {},
   "cell_type": "code",
   "source": [
    "# DM\n",
    "glucose_table = {'Condition': ['DM only', '', '', '', '', '']}\n",
    "glucose_table.update({\n",
    "    'Parameter': ['Glucose level (mmol/L)', '', '', '', '', ''],\n",
    "    **get_formatted_rows_glucose(df_dm_only, \"glucose_value_baseline\", \"glucose_value_endline\")\n",
    "})\n",
    "table_dm_only_df = pd.DataFrame(glucose_table)\n",
    "table_dm_only_df\n"
   ],
   "id": "eb9f49cc2dcc6a19",
   "outputs": [],
   "execution_count": null
  },
  {
   "metadata": {},
   "cell_type": "code",
   "source": [
    "# Glucose resulted\n",
    "\n",
    "glucose_table = {'Condition': ['All', '', '', '', '', '']}\n",
    "glucose_table.update({\n",
    "    'Parameter': ['Glucose measured', '', '', '', '', ''],\n",
    "    **get_formatted_rows_yes_no(\n",
    "        df_dm_htn,\n",
    "        df_dm_htn[(df_dm_htn[\"onstudy_days\"] >= 182)],\n",
    "        \"glucose_resulted_baseline\",\n",
    "        \"glucose_resulted_endline\",\n",
    "        missing=False\n",
    "    )\n",
    "})\n",
    "table_dm_htn_available_df = pd.DataFrame(glucose_table)\n",
    "table_dm_htn_available_df\n"
   ],
   "id": "718a0b01811b2d32",
   "outputs": [],
   "execution_count": null
  },
  {
   "metadata": {},
   "cell_type": "code",
   "source": [
    "glucose_table = {'Condition': ['DM and HTN', '', '', '', '', '']}\n",
    "glucose_table.update({\n",
    "    'Parameter': ['Glucose measured', '', '', '', '', ''],\n",
    "    **get_formatted_rows_yes_no(\n",
    "        df_dm_and_htn,\n",
    "        df_dm_and_htn[(df_dm_and_htn[\"onstudy_days\"] >= 182)],\n",
    "        \"glucose_resulted_baseline\",\n",
    "        \"glucose_resulted_endline\",\n",
    "        missing=False\n",
    "    )\n",
    "})\n",
    "table_dm_and_htn_available_df = pd.DataFrame(glucose_table)\n",
    "table_dm_and_htn_available_df\n"
   ],
   "id": "96bb8cfbd6653586",
   "outputs": [],
   "execution_count": null
  },
  {
   "metadata": {},
   "cell_type": "code",
   "source": [
    "glucose_table = {'Condition': ['DM only', '', '', '', '', '']}\n",
    "glucose_table.update({\n",
    "    'Parameter': ['Glucose measured', '', '', '', '', ''],\n",
    "    **get_formatted_rows_yes_no(\n",
    "        df_dm_only,\n",
    "        df_dm_only[(df_dm_only[\"onstudy_days\"] >= 182)],\n",
    "        \"glucose_resulted_baseline\",\n",
    "        \"glucose_resulted_endline\",\n",
    "        missing=False\n",
    "    )\n",
    "})\n",
    "table_dm_only_available_df = pd.DataFrame(glucose_table)\n",
    "table_dm_only_available_df\n"
   ],
   "id": "c801106b4deffb37",
   "outputs": [],
   "execution_count": null
  },
  {
   "metadata": {},
   "cell_type": "code",
   "source": [
    "glucose_table = {'Condition': ['All', '', '', '', '', '']}\n",
    "glucose_table.update({\n",
    "    'Parameter': ['Glucose < 7 mmol/L', '', '', '', '', ''],\n",
    "    **get_formatted_rows_yes_no(\n",
    "        df_dm_htn[df_dm_htn.glucose_value_baseline.notna()],\n",
    "        df_dm_htn[(df_dm_htn.glucose_value_endline.notna()) & (df_dm_htn[\"onstudy_days\"] >= 182)],\n",
    "        \"glucose_controlled_baseline\",\n",
    "        \"glucose_controlled_endline\",\n",
    "        missing=False\n",
    "    )\n",
    "})\n",
    "table_dm_htn_controlled_df = pd.DataFrame(glucose_table)\n",
    "table_dm_htn_controlled_df\n"
   ],
   "id": "5d8a0850e67b8e30",
   "outputs": [],
   "execution_count": null
  },
  {
   "metadata": {},
   "cell_type": "code",
   "source": [
    "glucose_table = {'Condition': ['DM and HTN', '', '', '', '', '']}\n",
    "glucose_table.update({\n",
    "    'Parameter': ['Glucose < 7 mmol/L', '', '', '', '', ''],\n",
    "    **get_formatted_rows_yes_no(\n",
    "        df_dm_and_htn[df_dm_and_htn.glucose_value_baseline.notna()],\n",
    "        df_dm_and_htn[(df_dm_and_htn.glucose_value_endline.notna()) & (df_dm_and_htn[\"onstudy_days\"] >= 182)],\n",
    "        \"glucose_controlled_baseline\",\n",
    "        \"glucose_controlled_endline\",\n",
    "        missing=False\n",
    "    )\n",
    "})\n",
    "table_dm_and_htn_controlled_df = pd.DataFrame(glucose_table)\n",
    "table_dm_and_htn_controlled_df\n"
   ],
   "id": "b64a529103649db",
   "outputs": [],
   "execution_count": null
  },
  {
   "metadata": {},
   "cell_type": "code",
   "source": [
    "\n",
    "\n",
    "glucose_table = {'Condition': ['DM only', '', '', '', '', '']}\n",
    "glucose_table.update({\n",
    "    'Parameter': ['Glucose < 7 mmol/L', '', '', '', '', ''],\n",
    "    **get_formatted_rows_yes_no(\n",
    "        df_dm_only[(df_dm_only.glucose_value_baseline.notna())],\n",
    "        df_dm_only[(df_dm_only.glucose_value_endline.notna()) & (df_dm_only[\"onstudy_days\"] >= 182)],\n",
    "        \"glucose_controlled_baseline\",\n",
    "        \"glucose_controlled_endline\",\n",
    "        missing=False\n",
    "    )\n",
    "})\n",
    "table_dm_only_controlled_df = pd.DataFrame(glucose_table)\n",
    "table_dm_only_controlled_df\n"
   ],
   "id": "fd853ba47399f17b",
   "outputs": [],
   "execution_count": null
  },
  {
   "metadata": {},
   "cell_type": "code",
   "source": "",
   "id": "85856e545ce38bfd",
   "outputs": [],
   "execution_count": null
  },
  {
   "metadata": {},
   "cell_type": "code",
   "source": [
    "# FASTING HRS\n",
    "\n",
    "# ALL\n",
    "glucose_table = {'Condition': ['ALL', '', '', '', '', '']}\n",
    "glucose_table.update({\n",
    "    'Parameter': ['Fasted (hrs)', '', '', '', '', ''],\n",
    "    **get_formatted_rows_glucose(df_dm_htn, col_baseline='glucose_fasting_duration_hours_baseline', col_endline='glucose_fasting_duration_hours_endline')\n",
    "})\n",
    "table_fast_all_df = pd.DataFrame(glucose_table)\n",
    "# table_fast_all_df"
   ],
   "id": "9461951bed5c7ffb",
   "outputs": [],
   "execution_count": null
  },
  {
   "metadata": {},
   "cell_type": "code",
   "source": [
    "# ENDLINE DAYS FROM BASELINE\n",
    "\n",
    "# ALL\n",
    "glucose_table = {'Condition': ['ALL', '', '', '', '', '']}\n",
    "glucose_table.update({\n",
    "    'Parameter': ['Mean days measured from baseline', '', '', '', '', ''],\n",
    "    **get_formatted_rows_glucose(df_dm_htn, col_baseline='glucose_measured_days_baseline', col_endline='glucose_measured_days_endline')\n",
    "})\n",
    "table_days_measured_from_baseline_df = pd.DataFrame(glucose_table)\n"
   ],
   "id": "2bc6c20e7298b747",
   "outputs": [],
   "execution_count": null
  },
  {
   "metadata": {},
   "cell_type": "code",
   "source": [
    "# ALL\n",
    "baseline_a = df_dm_htn[df_dm_htn['assignment'] == 'a'][\"glucose_first_to_last_days\"].describe()\n",
    "baseline_b = df_dm_htn[df_dm_htn['assignment'] == 'b'][\"glucose_first_to_last_days\"].describe()\n",
    "baseline_all = df_dm_htn[\"glucose_first_to_last_days\"].describe()\n",
    "\n",
    "glucose_table = {\n",
    "    'Condition': ['ALL', '', ''],\n",
    "    'Parameter': ['Mean days between measurments', '', '', ],\n",
    "    'Timepoint': ['', '', ''],\n",
    "    'Statistics': ['n', 'Mean(sd)', 'Median(min-max)'],\n",
    "    treatment_arm[COMMUNITY_ARM]: [\n",
    "        *get_cells_for_continuous_var(baseline_a),\n",
    "    ],\n",
    "    treatment_arm[FACILITY_ARM]: [\n",
    "        *get_cells_for_continuous_var(baseline_b),\n",
    "    ],\n",
    "    'All': [\n",
    "        *get_cells_for_continuous_var(baseline_all),\n",
    "    ],\n",
    "}\n",
    "\n",
    "\n",
    "table_mean_days_between_measurements_df = pd.DataFrame(glucose_table)\n"
   ],
   "id": "4d5faa785c0de139",
   "outputs": [],
   "execution_count": null
  },
  {
   "metadata": {},
   "cell_type": "code",
   "source": [
    "table_df = pd.concat([\n",
    "    table_dm_htn_available_df,\n",
    "    table_dm_htn_df,\n",
    "    table_dm_htn_controlled_df,\n",
    "    table_dm_and_htn_available_df,\n",
    "    table_dm_and_htn_df,\n",
    "    table_dm_and_htn_controlled_df,\n",
    "    table_dm_only_available_df,\n",
    "    table_dm_only_df,\n",
    "    table_dm_only_controlled_df,\n",
    "    table_fast_all_df,\n",
    "    table_days_measured_from_baseline_df,\n",
    "    table_mean_days_between_measurements_df],\n",
    "    ignore_index=True\n",
    ")\n",
    "table = tabulate(table_df, headers='keys', tablefmt='grid')\n"
   ],
   "id": "ff8af99849f1f21b",
   "outputs": [],
   "execution_count": null
  },
  {
   "metadata": {},
   "cell_type": "code",
   "source": [
    "path = analysis_folder / 'glucose.csv'\n",
    "table_df.to_csv(path_or_buf=path, index=False)\n"
   ],
   "id": "6f74a915cccb6753",
   "outputs": [],
   "execution_count": null
  },
  {
   "metadata": {},
   "cell_type": "code",
   "source": [
    "path = analysis_folder / 'glucose.txt'\n",
    "with open(path, 'w') as file:\n",
    "    file.write(table)"
   ],
   "id": "140b4793e22fed03",
   "outputs": [],
   "execution_count": null
  },
  {
   "metadata": {},
   "cell_type": "code",
   "source": "",
   "id": "edf578b6abbcd6c3",
   "outputs": [],
   "execution_count": null
  },
  {
   "metadata": {},
   "cell_type": "code",
   "source": "print(\"\\n\".join(narrative))",
   "id": "fbba84da8dcc2ef6",
   "outputs": [],
   "execution_count": null
  },
  {
   "metadata": {},
   "cell_type": "code",
   "source": [
    "df_baseline = df_dm_htn[[\"subject_identifier\", \"assignment\",\"glucose_controlled_baseline\"]].copy()\n",
    "df_baseline.rename(columns={\"glucose_controlled_baseline\": \"glucose_controlled\"}, inplace=True)\n",
    "df_baseline[\"glucose_controlled\"] = df_baseline[\"glucose_controlled\"] == 1.0\n",
    "df_baseline[\"time\"] = \"baseline\"\n",
    "df_endline = df_dm_htn[[\"subject_identifier\", \"assignment\",\"glucose_controlled_endline\"]].copy()\n",
    "df_endline.rename(columns={\"glucose_controlled_endline\": \"glucose_controlled\"}, inplace=True)\n",
    "df_endline[\"time\"] = \"endline\"\n",
    "df_endline[\"glucose_controlled\"] = df_endline[\"glucose_controlled\"] == 1.0\n",
    "\n",
    "df_glu_gee = pd.concat([df_baseline, df_endline], ignore_index=True)\n"
   ],
   "id": "4ffe9a0268d81c8a",
   "outputs": [],
   "execution_count": null
  },
  {
   "metadata": {},
   "cell_type": "code",
   "source": [
    "path = analysis_folder / 'df_glu_primary.csv'\n",
    "df_glu_gee.to_csv(path, index=False)\n"
   ],
   "id": "f3ab3390e0d053f1",
   "outputs": [],
   "execution_count": null
  },
  {
   "metadata": {},
   "cell_type": "code",
   "source": "table_df",
   "id": "2707a565db15c654",
   "outputs": [],
   "execution_count": null
  },
  {
   "metadata": {},
   "cell_type": "code",
   "source": "",
   "id": "501d9cb1cb63687a",
   "outputs": [],
   "execution_count": null
  }
 ],
 "metadata": {
  "kernelspec": {
   "display_name": "Python 3",
   "language": "python",
   "name": "python3"
  },
  "language_info": {
   "codemirror_mode": {
    "name": "ipython",
    "version": 2
   },
   "file_extension": ".py",
   "mimetype": "text/x-python",
   "name": "python",
   "nbconvert_exporter": "python",
   "pygments_lexer": "ipython2",
   "version": "2.7.6"
  }
 },
 "nbformat": 4,
 "nbformat_minor": 5
}
