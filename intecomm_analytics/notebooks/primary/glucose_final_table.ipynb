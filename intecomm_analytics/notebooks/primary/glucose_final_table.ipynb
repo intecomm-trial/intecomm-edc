{
 "cells": [
  {
   "cell_type": "code",
   "id": "initial_id",
   "metadata": {
    "collapsed": true
   },
   "source": [
    "%%capture\n",
    "import os\n",
    "from pathlib import Path\n",
    "import pandas as pd\n",
    "\n",
    "from dj_notebook import activate\n",
    "\n",
    "env_file = os.environ[\"INTECOMM_ENV\"]\n",
    "documents_folder = Path(os.environ[\"INTECOMM_DOCUMENTS_FOLDER\"])\n",
    "plus = activate(dotenv_file=env_file)\n",
    "\n",
    "report_folder = Path(documents_folder)"
   ],
   "outputs": [],
   "execution_count": null
  },
  {
   "metadata": {},
   "cell_type": "code",
   "source": [
    "\"\"\"\n",
    "Assumptions\n",
    "1. fasting must be >=8hrs\n",
    "2. take latest measurement if more than one at endline at same timepoint\n",
    "3. two records need unites to be changes\n",
    "\n",
    "\"\"\""
   ],
   "id": "e3a6ffbca289a476",
   "outputs": [],
   "execution_count": null
  },
  {
   "metadata": {},
   "cell_type": "code",
   "source": [
    "from intecomm_analytics.dataframes import get_df_main_1858\n",
    "from tabulate import tabulate\n",
    "from edc_constants.constants import NO, YES, NOT_APPLICABLE\n",
    "from edc_pdutils.dataframes import get_crf\n",
    "from datetime import timedelta\n",
    "from edc_reportable.units import MILLIGRAMS_PER_DECILITER\n"
   ],
   "id": "1f3ecbaa23a8a417",
   "outputs": [],
   "execution_count": null
  },
  {
   "metadata": {},
   "cell_type": "code",
   "source": "df_main = get_df_main_1858(None)\n",
   "id": "85c21ea95a904ad1",
   "outputs": [],
   "execution_count": null
  },
  {
   "metadata": {},
   "cell_type": "code",
   "source": "columns = [\"subject_identifier\", \"visit_code\", \"visit_datetime\", \"glucose_fasting\", \"glucose_fasting_duration_str\", \"glucose_fasting_duration_delta\", \"glucose_date\", \"glucose_value\", \"glucose_quantifier\", \"glucose_units\", \"source\"]",
   "id": "c9c6d6903eba85a6",
   "outputs": [],
   "execution_count": null
  },
  {
   "metadata": {},
   "cell_type": "code",
   "source": [
    "df_dminitialreview = get_crf(model=\"intecomm_subject.dminitialreview\", subject_visit_model=\"intecomm_subject.subjectvisit\")\n",
    "df_dminitialreview[\"source\"] = \"intecomm_subject.dminitialreview\"\n",
    "df_dminitialreview = df_dminitialreview[(df_dminitialreview.visit_code==1000.0) & (df_dminitialreview.glucose_performed == YES)]\n",
    "df_dminitialreview[\"dm_dx_date\"] = df_dminitialreview.apply(lambda row: row.dx_date if pd.notna(row.dx_date) else row.dx_calculated_date, axis=1)\n",
    "df_dx_date = df_dminitialreview[[\"subject_identifier\", \"dm_dx_date\"]].copy()\n",
    "df_dx_date.reset_index(drop=True, inplace=True)\n",
    "df_dminitialreview = df_dminitialreview[columns].copy()\n",
    "df_dminitialreview.reset_index(drop=True, inplace=True)\n",
    "df_dminitialreview\n",
    "\n",
    "# df_dminitialreview[columns]"
   ],
   "id": "3057084372433b4a",
   "outputs": [],
   "execution_count": null
  },
  {
   "metadata": {},
   "cell_type": "code",
   "source": [
    "df_dmreview = get_crf(model=\"intecomm_subject.dmreview\", subject_visit_model=\"intecomm_subject.subjectvisit\")\n",
    "df_dmreview[\"source\"] = \"intecomm_subject.dmreview\"\n",
    "df_dmreview = df_dmreview[(df_dmreview.visit_code>=1090.0) & (df_dmreview.subject_identifier.isin(df_dminitialreview.subject_identifier))]\n",
    "df_dmreview = df_dmreview[columns].copy()\n",
    "df_dmreview.reset_index(drop=True, inplace=True)\n",
    "df_dmreview\n"
   ],
   "id": "ffca7c440a137429",
   "outputs": [],
   "execution_count": null
  },
  {
   "metadata": {},
   "cell_type": "code",
   "source": "",
   "id": "b01f4ea9b73145b2",
   "outputs": [],
   "execution_count": null
  },
  {
   "metadata": {},
   "cell_type": "code",
   "source": [
    "\n",
    "df_glucose_crf = get_crf(model=\"intecomm_subject.glucose\", subject_visit_model=\"intecomm_subject.subjectvisit\")\n",
    "df_glucose_crf[\"source\"] = \"intecomm_subject.glucose\"\n",
    "df_glucose_crf = df_glucose_crf[(df_glucose_crf.visit_code>=1090.0) & (df_glucose_crf.subject_identifier.isin(df_dminitialreview.subject_identifier))]\n",
    "df_glucose_crf = df_glucose_crf[columns].copy()\n",
    "df_glucose_crf.reset_index(drop=True, inplace=True)\n",
    "df_glucose_crf\n",
    "\n",
    "\n",
    "# df_glucose[columns]"
   ],
   "id": "377b76aff14df81f",
   "outputs": [],
   "execution_count": null
  },
  {
   "metadata": {},
   "cell_type": "code",
   "source": [
    "df_blood_result_glu = get_crf(model=\"intecomm_subject.bloodresultsglu\", subject_visit_model=\"intecomm_subject.subjectvisit\")\n",
    "df_blood_result_glu\n",
    "# df_blood_result_glu[[\"subject_identifier\", \"glucose_performed\", \"glucose_fasting\", \"glucose_fasting_duration_str\", \"glucose_date\", \"glucose_value\", \"glucose_quantifier\", \"glucose_units\"]]"
   ],
   "id": "b7958bc7d531728e",
   "outputs": [],
   "execution_count": null
  },
  {
   "metadata": {},
   "cell_type": "code",
   "source": [
    "# merge all sources of glucose results\n",
    "df_glucose = pd.concat([df_dminitialreview, df_dmreview, df_glucose_crf])\n",
    "df_glucose = df_glucose[(df_glucose.glucose_fasting==YES) & (df_glucose.glucose_fasting_duration_delta>= timedelta(hours=8))]\n",
    "df_glucose.reset_index(drop=True, inplace=True)\n",
    "\n",
    "df_glucose = df_glucose.merge(df_dx_date, on=\"subject_identifier\", how=\"left\")\n",
    "df_glucose.reset_index(drop=True, inplace=True)\n",
    "df_glucose\n"
   ],
   "id": "bd06b5c3c43c80e2",
   "outputs": [],
   "execution_count": null
  },
  {
   "metadata": {},
   "cell_type": "code",
   "source": "",
   "id": "777111c4ab3a5962",
   "outputs": [],
   "execution_count": null
  },
  {
   "metadata": {},
   "cell_type": "code",
   "source": [
    "# identify incorrect units\n",
    "# thses need to be corrected on the EDC\n",
    "df_glucose[(df_glucose.glucose_units==MILLIGRAMS_PER_DECILITER)][\"glucose_value\"]\n"
   ],
   "id": "f950e34cefadc2a2",
   "outputs": [],
   "execution_count": null
  },
  {
   "metadata": {},
   "cell_type": "code",
   "source": [
    "# is visit_datetime an OK proxy for glucose_date?\n",
    "# df_glucose[df_glucose.visit_datetime != df_glucose.glucose_date][[\"visit_datetime\", \"glucose_date\"]]"
   ],
   "id": "7a56d8699cf58b7e",
   "outputs": [],
   "execution_count": null
  },
  {
   "metadata": {},
   "cell_type": "code",
   "source": [
    "\n",
    "\n"
   ],
   "id": "8a9e4882a8005317",
   "outputs": [],
   "execution_count": null
  },
  {
   "metadata": {},
   "cell_type": "code",
   "source": "# df_glucose[\"dx_date\"] = df_glucose[df_glucose.source==\"intecomm_subject.dminitialreview\"].apply(lambda row: row.dx_date if pd.notna(row.dx_date) else row.dx_calculated_date, axis=1)\n",
   "id": "bccc057963ae59b5",
   "outputs": [],
   "execution_count": null
  },
  {
   "metadata": {},
   "cell_type": "code",
   "source": [
    "\n",
    "def get_measured_timedelta(s):\n",
    "    if pd.notna(s[\"glucose_date_first\"]) and pd.notna(s[\"glucose_date_last\"]):\n",
    "        return s[\"glucose_date_last\"] - s[\"glucose_date_first\"]\n",
    "    return pd.NaT\n",
    "\n",
    "\n",
    "# get endline glucose per subject\n",
    "df_glucose = df_glucose.sort_values(by=[\"subject_identifier\", \"glucose_date\"])\n",
    "# df_glu.rename(\n",
    "#     columns={\"visit_datetime\": \"glu_datetime\", \"visit_code\": \"glu_visit_code\"},\n",
    "#     inplace=True,\n",
    "# )\n",
    "\n",
    "df_first_last = (\n",
    "    df_glucose[\n",
    "        [\n",
    "            \"subject_identifier\",\n",
    "            \"glucose_value\",\n",
    "            \"glucose_date\",\n",
    "            \"glucose_units\",\n",
    "            \"glucose_fasting_duration_delta\",\n",
    "        ]\n",
    "    ]\n",
    "    .groupby(by=[\"subject_identifier\"])\n",
    "    .agg([\"first\", \"last\"])\n",
    "    .reset_index()\n",
    ")\n",
    "df_first_last.columns = [\n",
    "    \"_\".join(col).strip() if col[1] else col[0]\n",
    "    for col in df_first_last.columns.values\n",
    "]\n",
    "\n",
    "df_first_last[\"glucose_measured_delta\"] = df_first_last.apply(\n",
    "    get_measured_timedelta, axis=1\n",
    ")\n",
    "# df_glu_first_last[df_glu_first_last.glu_measured_delta>timedelta(days=0)]"
   ],
   "id": "e38c84ff0f74572f",
   "outputs": [],
   "execution_count": null
  },
  {
   "metadata": {},
   "cell_type": "code",
   "source": [
    "\n",
    "df_final = pd.merge(df_main, df_first_last, on=\"subject_identifier\", how=\"left\")\n",
    "df_final = df_final.merge(df_dx_date, on=\"subject_identifier\", how=\"left\")\n",
    "df_final[\"glucose_fasting_duration_days_first\"] = df_final[\"glucose_fasting_duration_delta_first\"].dt.total_seconds() / 3600\n",
    "df_final[\"glucose_fasting_duration_days_last\"] = df_final[\"glucose_fasting_duration_delta_last\"].dt.total_seconds() / 3600\n",
    "df_final[\"glucose_measured_days_last\"] = df_final[\"glucose_measured_delta\"].dt.days\n",
    "df_final[\"glucose_measured_days_first\"] = 0\n",
    "df_final = df_final[(df_final.dm_dx_date < (df_final.baseline_datetime - timedelta(days=180)))]\n",
    "df_final.reset_index(drop=True, inplace=True)\n"
   ],
   "id": "b253ea5d876028b3",
   "outputs": [],
   "execution_count": null
  },
  {
   "metadata": {},
   "cell_type": "code",
   "source": "# df_final[df_final.dm==1]",
   "id": "7e832fe4991317b3",
   "outputs": [],
   "execution_count": null
  },
  {
   "metadata": {},
   "cell_type": "code",
   "source": [
    "df_final[[\n",
    "    \"subject_identifier\",\n",
    "    \"dm_dx_date\",\n",
    "    \"glucose_value_first\",\n",
    "    \"glucose_date_first\",\n",
    "    \"glucose_units_first\",\n",
    "    \"glucose_fasting_duration_days_first\",\n",
    "    \"glucose_fasting_duration_delta_first\",\n",
    "    \"glucose_value_last\",\n",
    "    \"glucose_date_last\",\n",
    "    \"glucose_units_last\",\n",
    "    \"glucose_fasting_duration_delta_last\",\n",
    "    \"glucose_fasting_duration_days_last\",\n",
    "    \"glucose_measured_delta\",\n",
    "    \"glucose_measured_days_first\",\n",
    "    \"glucose_measured_days_last\",\n",
    "    \"assignment\",\n",
    "]]"
   ],
   "id": "c96bdf7d8b9d904c",
   "outputs": [],
   "execution_count": null
  },
  {
   "metadata": {},
   "cell_type": "code",
   "source": "#\n",
   "id": "5f9e9ca5873c9aaf",
   "outputs": [],
   "execution_count": null
  },
  {
   "metadata": {},
   "cell_type": "code",
   "source": [
    "# def get_measured_from_baseline_to_last_timedelta(s):\n",
    "#     if pd.notna(s[\"glucose_date_last\"]):\n",
    "#         return s[\"glucose_date_last\"] - s[\"baseline_datetime\"]\n",
    "#     return pd.NaT\n",
    "#\n",
    "# def get_measured_from_baseline_to_first_timedelta(s):\n",
    "#     if pd.notna(s[\"glucose_date_first\"]):\n",
    "#         return s[\"glucose_date_first\"] - s[\"baseline_datetime\"]\n",
    "#     return pd.NaT\n",
    "#\n",
    "# df_glucose[\"glucose_from_baseline_delta_last\"] = df_glucose.apply(get_measured_from_baseline_to_last_timedelta, axis=1)\n",
    "# df_glucose[\"glucose_from_baseline_delta_first\"] = df_glucose.apply(get_measured_from_baseline_to_first_timedelta, axis=1)\n"
   ],
   "id": "40063534df5b24d6",
   "outputs": [],
   "execution_count": null
  },
  {
   "metadata": {},
   "cell_type": "code",
   "source": [
    "def get_cells_for_continuous_var(df)->list[str]:\n",
    "    \"\"\" From describe(), format 3 cells as:\n",
    "\n",
    "        +======================+\n",
    "        | 930                  |\n",
    "        +----------------------+\n",
    "        | 127.69(16.84)        |\n",
    "        +----------------------+\n",
    "        | 127.00(82.00–183.00) |\n",
    "        +----------------------+\n",
    "    \"\"\"\n",
    "    return [\n",
    "        f\"{int(df['count'])}\",\n",
    "        f\"{df['mean']:.2f}({df['std']:.2f})\",\n",
    "        f\"{df['50%']:.2f}({df['min']:.2f}–{df['max']:.2f})\"\n",
    "    ]\n",
    "\n",
    "def get_cells_for_yes_no_na(df:pd.DataFrame, col:str, arm:str|None=None)->list[str]:\n",
    "    if arm:\n",
    "        n = len(df[(df['assignment']==arm) & (df[col].notna())])\n",
    "        counts = df[(df['assignment'] == arm) & (df[col].notna())][col].value_counts()\n",
    "        percentages = df[(df['assignment'] == arm) & (df[col].notna())][col].value_counts(normalize=True) * 100\n",
    "    else:\n",
    "        n = len(df[(df[col].notna())])\n",
    "        counts = df[(df[col].notna())][col].value_counts()\n",
    "        percentages = df[(df[col].notna())][col].value_counts(normalize=True) * 100\n",
    "    return [\n",
    "        n,\n",
    "        f\"{counts.get(NO, 0)} ({percentages.get(NO, 0):.1f}%)\",\n",
    "        f\"{counts.get(YES, 0)} ({percentages.get(YES, 0):.1f}%)\"]\n",
    "        # f\"{counts.get(NOT_APPLICABLE, 0)} ({percentages.get(NOT_APPLICABLE, 0):.1f}%)\"]\n",
    "\n",
    "\n",
    "def get_formatted_rows_glucose(df, col_baseline:str|None=None, col_endline:str|None=None):\n",
    "    \"\"\"Returns 5 columns\"\"\"\n",
    "\n",
    "    df_base = df[df[col_baseline].notna()].copy()\n",
    "    baseline_a = df_base[df_base['assignment'] == 'a'][col_baseline].describe()\n",
    "    baseline_b = df_base[df_base['assignment'] == 'b'][col_baseline].describe()\n",
    "    baseline_all = df_base[col_baseline].describe()\n",
    "\n",
    "    df_end = df[df[col_endline].notna()].copy()\n",
    "    endline_a = df_end[df_end['assignment'] == 'a'][col_endline].describe()\n",
    "    endline_b = df_end[df_end['assignment'] == 'b'][col_endline].describe()\n",
    "    endline_all = df_end[col_endline].describe()\n",
    "\n",
    "    return  {\n",
    "        'Timepoint': ['Baseline', '', '', 'Endline', '', ''],\n",
    "        'Statistics': ['n', 'Mean(sd)', 'Median(min-max)','n', 'Mean(sd)', 'Median(min-max)'],\n",
    "        'Treatment A': [\n",
    "            *get_cells_for_continuous_var(baseline_a),\n",
    "            *get_cells_for_continuous_var(endline_a),\n",
    "        ],\n",
    "        'Treatment B': [\n",
    "            *get_cells_for_continuous_var(baseline_b),\n",
    "            *get_cells_for_continuous_var(endline_b),\n",
    "        ],\n",
    "        'All': [\n",
    "            *get_cells_for_continuous_var(baseline_all),\n",
    "            *get_cells_for_continuous_var(endline_all),\n",
    "        ],\n",
    "    }\n",
    "\n",
    "def get_formatted_rows_controllled(df:pd.DataFrame, baseline_col:str, endline_col:str):\n",
    "    \"\"\"Returns 5 columns\"\"\"\n",
    "    return  {\n",
    "        'Timepoint': ['Baseline', '', '', 'Endline', '', ''],\n",
    "        'Statistics': ['n', 'No', 'Yes', 'n', 'No', 'Yes'],\n",
    "        'Treatment A': [\n",
    "            *get_cells_for_yes_no_na(df, baseline_col, arm=\"a\"),\n",
    "            *get_cells_for_yes_no_na(df, endline_col, arm=\"a\"),\n",
    "        ],\n",
    "        'Treatment B': [\n",
    "            *get_cells_for_yes_no_na(df, baseline_col, arm=\"b\"),\n",
    "            *get_cells_for_yes_no_na(df, endline_col, arm=\"b\"),\n",
    "        ],\n",
    "        'All': [\n",
    "            *get_cells_for_yes_no_na(df, baseline_col),\n",
    "            *get_cells_for_yes_no_na(df, endline_col),\n",
    "        ],\n",
    "    }"
   ],
   "id": "29caf54b804a7f41",
   "outputs": [],
   "execution_count": null
  },
  {
   "metadata": {},
   "cell_type": "code",
   "source": [
    "# df_all = df_glucose[[\n",
    "#     \"subject_identifier\",\n",
    "#     \"dm_dx_date\",\n",
    "#     \"glucose_value_first\",\n",
    "#     \"glucose_date_first\",\n",
    "#     \"glucose_units_first\",\n",
    "#     \"glucose_fasting_duration_delta_first\",\n",
    "#     \"glucose_value_last\",\n",
    "#     \"glucose_date_last\",\n",
    "#     \"glucose_units_last\",\n",
    "#     \"glucose_fasting_duration_delta_last\",\n",
    "#     \"glucose_from_baseline_delta_first\",\n",
    "#     \"glucose_from_baseline_delta_last\",\n",
    "#     \"assignment\"\n",
    "# ]].copy()\n",
    "# df_all"
   ],
   "id": "4f886e45e475d5d1",
   "outputs": [],
   "execution_count": null
  },
  {
   "metadata": {},
   "cell_type": "code",
   "source": [
    "df_all = df_final[(df_final.hiv==0) & (df_final.glucose_measured_delta>=timedelta(days=270))].copy()\n",
    "df_all.reset_index(inplace=True, drop=True)\n",
    "\n",
    "df_htn_dm = df_final[((df_final.dm==1) | ((df_final.dm==1) & (df_final.htn==1))) & (df_final.hiv==0) & (df_final.glucose_measured_delta>=timedelta(days=270))].copy()\n",
    "df_htn_dm.reset_index(inplace=True, drop=True)\n",
    "path = documents_folder / \"df_htn_dm.csv\"\n",
    "df_htn_dm.to_csv(path, index=False)\n",
    "\n",
    "df_dm_only = df_final[(df_final.dm==1) & (df_final.htn==0) & (df_final.hiv==0) & (df_final.glucose_measured_delta>=timedelta(days=270))].copy()\n",
    "df_dm_only.reset_index(inplace=True, drop=True)"
   ],
   "id": "24adb155eac2ab27",
   "outputs": [],
   "execution_count": null
  },
  {
   "metadata": {},
   "cell_type": "code",
   "source": [
    "\n",
    "\n"
   ],
   "id": "181ff08357ec2fe8",
   "outputs": [],
   "execution_count": null
  },
  {
   "metadata": {},
   "cell_type": "code",
   "source": [
    "# ALL\n",
    "glucose_table = {'Condition': ['All', '', '', '', '', '']}\n",
    "glucose_table.update({\n",
    "    'Parameter': ['Glucose level (mmol/L)', '', '', '', '', ''],\n",
    "    **get_formatted_rows_glucose(df_all, \"glucose_value_first\", \"glucose_value_last\")\n",
    "})\n",
    "table_all_df = pd.DataFrame(glucose_table)\n",
    "# table_all_df"
   ],
   "id": "b35f372b96ee3e91",
   "outputs": [],
   "execution_count": null
  },
  {
   "metadata": {},
   "cell_type": "code",
   "source": [
    "# HTN/DM\n",
    "glucose_table = {'Condition': ['HTN/DM', '', '', '', '', '']}\n",
    "glucose_table.update({\n",
    "    'Parameter': ['Glucose level (mmol/L)', '', '', '', '', ''],\n",
    "    **get_formatted_rows_glucose(df_htn_dm, \"glucose_value_first\", \"glucose_value_last\")\n",
    "})\n",
    "table_htn_dm_df = pd.DataFrame(glucose_table)\n",
    "# table_htn_dm_df\n"
   ],
   "id": "48cc851eba36d40a",
   "outputs": [],
   "execution_count": null
  },
  {
   "metadata": {},
   "cell_type": "code",
   "source": [
    "# DM\n",
    "glucose_table = {'Condition': ['DM only', '', '', '', '', '']}\n",
    "glucose_table.update({\n",
    "    'Parameter': ['Glucose level (mmol/L)', '', '', '', '', ''],\n",
    "    **get_formatted_rows_glucose(df_dm_only, \"glucose_value_first\", \"glucose_value_last\")\n",
    "})\n",
    "table_dm_only_df = pd.DataFrame(glucose_table)\n",
    "# table_dm_only_df\n"
   ],
   "id": "eb9f49cc2dcc6a19",
   "outputs": [],
   "execution_count": null
  },
  {
   "metadata": {},
   "cell_type": "code",
   "source": [
    "# Glucose controlled\n",
    "def controlled(value):\n",
    "    if value is None:\n",
    "        return NOT_APPLICABLE\n",
    "    if value < 7.00:\n",
    "        return YES\n",
    "    elif value >= 7.00:\n",
    "        return NO\n",
    "    return ''\n",
    "\n",
    "df_htn_dm[\"glucose_controlled_first\"] = df_htn_dm[\"glucose_value_first\"].apply(lambda x: controlled(x))\n",
    "df_htn_dm[\"glucose_controlled_last\"] = df_htn_dm[\"glucose_value_last\"].apply(lambda x: controlled(x))\n",
    "\n",
    "glucose_table = {'Condition': ['HTN/DM', '', '', '', '', '']}\n",
    "glucose_table.update({\n",
    "    'Parameter': ['Glucose < 7 mmol/L', '', '', '', '', ''],\n",
    "    **get_formatted_rows_controllled(df_htn_dm, \"glucose_controlled_first\", \"glucose_controlled_last\")\n",
    "})\n",
    "table_dm_controlled_df = pd.DataFrame(glucose_table)\n",
    "table_dm_controlled_df\n"
   ],
   "id": "5d8a0850e67b8e30",
   "outputs": [],
   "execution_count": null
  },
  {
   "metadata": {},
   "cell_type": "code",
   "source": [
    "# FASTING HRS\n",
    "\n",
    "# ALL\n",
    "glucose_table = {'Condition': ['ALL', '', '', '', '', '']}\n",
    "glucose_table.update({\n",
    "    'Parameter': ['Fasted (hrs)', '', '', '', '', ''],\n",
    "    **get_formatted_rows_glucose(df_all, col_baseline='glucose_fasting_duration_days_first', col_endline='glucose_fasting_duration_days_last')\n",
    "})\n",
    "table_fast_all_df = pd.DataFrame(glucose_table)\n",
    "table_fast_all_df"
   ],
   "id": "9461951bed5c7ffb",
   "outputs": [],
   "execution_count": null
  },
  {
   "metadata": {},
   "cell_type": "code",
   "source": [
    "# ENDLINE DAYS FROM BASELINE\n",
    "\n",
    "# ALL\n",
    "glucose_table = {'Condition': ['ALL', '', '', '', '', '']}\n",
    "glucose_table.update({\n",
    "    'Parameter': ['Endline: Days from baseline', '', '', '', '', ''],\n",
    "    **get_formatted_rows_glucose(df_all, col_baseline='glucose_measured_days_first', col_endline='glucose_measured_days_last')\n",
    "})\n",
    "table_days_all_df = pd.DataFrame(glucose_table)\n",
    "table_days_all_df"
   ],
   "id": "2bc6c20e7298b747",
   "outputs": [],
   "execution_count": null
  },
  {
   "metadata": {},
   "cell_type": "code",
   "source": [
    "table_df = pd.concat([table_all_df, table_htn_dm_df, table_dm_controlled_df, table_fast_all_df, table_days_all_df, table_dm_only_df], ignore_index=True)\n",
    "table = tabulate(table_df, headers='keys', tablefmt='grid')\n"
   ],
   "id": "ff8af99849f1f21b",
   "outputs": [],
   "execution_count": null
  },
  {
   "metadata": {},
   "cell_type": "code",
   "source": [
    "path = documents_folder / 'glucose.csv'\n",
    "table_df.to_csv(path_or_buf=path, index=False)\n"
   ],
   "id": "6f74a915cccb6753",
   "outputs": [],
   "execution_count": null
  },
  {
   "metadata": {},
   "cell_type": "code",
   "source": [
    "documents_folder = Path(os.environ[\"INTECOMM_DOCUMENTS_FOLDER\"])\n",
    "path = documents_folder / 'glucose.txt'\n",
    "with open(path, 'w') as file:\n",
    "    file.write(table)"
   ],
   "id": "140b4793e22fed03",
   "outputs": [],
   "execution_count": null
  },
  {
   "metadata": {},
   "cell_type": "code",
   "source": [
    "# import matplotlib.pyplot as plt\n",
    "# import seaborn as sns\n",
    "#\n",
    "# data = df_dminitialreview.glucose_value\n",
    "# data = data.sort_values()\n",
    "# # Create a figure with two subplots: histogram and boxplot\n",
    "# fig, ax = plt.subplots(1, 2, figsize=(12, 6))\n",
    "#\n",
    "# # Histogram to inspect the distribution of glucose measurements\n",
    "# sns.histplot(data, kde=True, ax=ax[0])\n",
    "# ax[0].set_title('Baseline Glucose')\n",
    "# ax[0].set_xlabel('Glucose (mmol/L)')\n",
    "# ax[0].set_ylabel('Frequency')\n",
    "#\n",
    "# # Boxplot to inspect the central tendency and spread of glucose measurements\n",
    "# sns.boxplot(y=data, ax=ax[1])\n",
    "# ax[1].set_title('Baseline Glucose')\n",
    "# ax[1].set_ylabel('Glucose Measurement (mmol/L)')\n",
    "#\n",
    "# # Show the plots\n",
    "# plt.tight_layout()\n",
    "# plt.show()"
   ],
   "id": "edf578b6abbcd6c3",
   "outputs": [],
   "execution_count": null
  },
  {
   "metadata": {},
   "cell_type": "code",
   "source": "\n",
   "id": "2f1c6a938524b782",
   "outputs": [],
   "execution_count": null
  },
  {
   "metadata": {},
   "cell_type": "code",
   "source": "",
   "id": "57af8c1da7f2694e",
   "outputs": [],
   "execution_count": null
  },
  {
   "metadata": {},
   "cell_type": "code",
   "source": "",
   "id": "1bb2168ca55d1dd2",
   "outputs": [],
   "execution_count": null
  },
  {
   "metadata": {},
   "cell_type": "code",
   "source": "\n",
   "id": "45052562454818fc",
   "outputs": [],
   "execution_count": null
  },
  {
   "metadata": {},
   "cell_type": "code",
   "source": "\n",
   "id": "170814224a8fbcca",
   "outputs": [],
   "execution_count": null
  },
  {
   "metadata": {},
   "cell_type": "code",
   "source": "",
   "id": "afb53fb17d9ef76f",
   "outputs": [],
   "execution_count": null
  },
  {
   "metadata": {},
   "cell_type": "code",
   "source": "",
   "id": "5a20d550a3ba2c38",
   "outputs": [],
   "execution_count": null
  },
  {
   "metadata": {},
   "cell_type": "code",
   "source": [
    "\n",
    "\n"
   ],
   "id": "740b5cebea73b558",
   "outputs": [],
   "execution_count": null
  },
  {
   "metadata": {},
   "cell_type": "code",
   "source": "",
   "id": "85d1e631ef8dbddf",
   "outputs": [],
   "execution_count": null
  },
  {
   "metadata": {},
   "cell_type": "code",
   "source": "",
   "id": "8a1207bcf2a30381",
   "outputs": [],
   "execution_count": null
  },
  {
   "metadata": {},
   "cell_type": "code",
   "source": "",
   "id": "fbba84da8dcc2ef6",
   "outputs": [],
   "execution_count": null
  }
 ],
 "metadata": {
  "kernelspec": {
   "display_name": "Python 3",
   "language": "python",
   "name": "python3"
  },
  "language_info": {
   "codemirror_mode": {
    "name": "ipython",
    "version": 2
   },
   "file_extension": ".py",
   "mimetype": "text/x-python",
   "name": "python",
   "nbconvert_exporter": "python",
   "pygments_lexer": "ipython2",
   "version": "2.7.6"
  }
 },
 "nbformat": 4,
 "nbformat_minor": 5
}
